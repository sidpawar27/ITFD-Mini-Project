{
 "cells": [
  {
   "cell_type": "code",
   "execution_count": 1,
   "metadata": {},
   "outputs": [],
   "source": [
    "import matplotlib.pyplot as plt\n",
    "from matplotlib import cm\n",
    "import pandas as pd\n",
    "from sklearn.decomposition import PCA\n",
    "from scipy.cluster.hierarchy import dendrogram, linkage\n",
    "import scipy.cluster.hierarchy as hier\n",
    "import numpy as np\n",
    "from sklearn.cluster import KMeans"
   ]
  },
  {
   "cell_type": "code",
   "execution_count": null,
   "metadata": {},
   "outputs": [],
   "source": []
  },
  {
   "cell_type": "code",
   "execution_count": null,
   "metadata": {},
   "outputs": [],
   "source": []
  },
  {
   "cell_type": "code",
   "execution_count": null,
   "metadata": {},
   "outputs": [],
   "source": [
    "\n"
   ]
  },
  {
   "cell_type": "code",
   "execution_count": null,
   "metadata": {},
   "outputs": [],
   "source": [
    "\n"
   ]
  },
  {
   "cell_type": "code",
   "execution_count": null,
   "metadata": {},
   "outputs": [],
   "source": []
  },
  {
   "cell_type": "code",
   "execution_count": null,
   "metadata": {},
   "outputs": [],
   "source": []
  },
  {
   "cell_type": "code",
   "execution_count": null,
   "metadata": {},
   "outputs": [],
   "source": []
  },
  {
   "cell_type": "code",
   "execution_count": 2,
   "metadata": {},
   "outputs": [],
   "source": [
    "df=pd.read_csv('C://Users//DELL//Downloads//Hackathon 2019//Dataset.csv')"
   ]
  },
  {
   "cell_type": "code",
   "execution_count": 3,
   "metadata": {},
   "outputs": [
    {
     "name": "stdout",
     "output_type": "stream",
     "text": [
      "       Name  Maintaince  Car maintaince  Employee Salary  Family Expen  \\\n",
      "0  jyothika       40000           60000           200000         40000   \n",
      "1  Priyanka       36000           80000           500000         80000   \n",
      "2     Vikas       35000           70000           400000         90000   \n",
      "3    Akshay       35000          140000           500000         80000   \n",
      "4     Sneha       80000           50000           560000         50000   \n",
      "5    Swetha       60000           80000           900000         54000   \n",
      "6    Apurva       75000           44000           780000         86000   \n",
      "7  Harshada       45000           60000           650000         90000   \n",
      "8    Chandu       56000          250000           950000        500000   \n",
      "9     Vidya       70000           50000           800000        200000   \n",
      "\n",
      "   Jwellery  Kidsfees  Online Shopp    Total  profit       Actual  fraud  \\\n",
      "0    100000      5000         50000   490000      20  2450000.000      1   \n",
      "1    200000      2500         10000   906000      16  5620000.000      0   \n",
      "2   1400000    300000          1000  1996000      29  6882758.621      0   \n",
      "3    250000    200000         25000  1030000      50  2060000.000      1   \n",
      "4    300000    400000         50000  1090000      12  9083333.333      0   \n",
      "5    200000    500000         25000  1319000      18  7327777.778      0   \n",
      "6    120000    600000         80000  1185000      22  5386363.636      0   \n",
      "7     55000    200000         17000   917000      26  3526923.077      1   \n",
      "8     89000    600000          2000  1847000      23  8030434.783      0   \n",
      "9    150000    500000         10000  1280000      15  8533333.333      0   \n",
      "\n",
      "   Annual   \n",
      "0  2450000  \n",
      "1  2500000  \n",
      "2  5000000  \n",
      "3  2060000  \n",
      "4  5000000  \n",
      "5  6500000  \n",
      "6  2000000  \n",
      "7  3526923  \n",
      "8  2000000  \n",
      "9  4000000  \n",
      "KMeans(algorithm='auto', copy_x=True, init='k-means++', max_iter=300,\n",
      "    n_clusters=2, n_init=10, n_jobs=None, precompute_distances='auto',\n",
      "    random_state=None, tol=0.0001, verbose=0)\n"
     ]
    }
   ],
   "source": [
    "kmeans=KMeans(n_clusters=2)\n",
    "df['fraud']=kmeans.fit_predict(df[['Actual']])\n",
    "print(df)\n",
    "print(kmeans)"
   ]
  },
  {
   "cell_type": "code",
   "execution_count": 4,
   "metadata": {
    "scrolled": true
   },
   "outputs": [],
   "source": [
    "import pandas\n",
    "data1=pd.read_csv('C://Users//DELL//Downloads//Hackathon 2019//Dataset.csv')\n",
    "#print(data1[['Name','fraud']])\n",
    "#print(data1[['Name','fraud']].take([9]))\n",
    "data2=data1.loc[data1.fraud==1]"
   ]
  },
  {
   "cell_type": "code",
   "execution_count": 5,
   "metadata": {},
   "outputs": [
    {
     "name": "stdout",
     "output_type": "stream",
     "text": [
      "       Name  Maintaince  Car maintaince  Employee Salary  Family Expen  \\\n",
      "1  Priyanka       36000           80000           500000         80000   \n",
      "2     Vikas       35000           70000           400000         90000   \n",
      "4     Sneha       80000           50000           560000         50000   \n",
      "5    Swetha       60000           80000           900000         54000   \n",
      "6    Apurva       75000           44000           780000         86000   \n",
      "8    Chandu       56000          250000           950000        500000   \n",
      "9     Vidya       70000           50000           800000        200000   \n",
      "\n",
      "   Jwellery  Kidsfees  Online Shopp    Total  profit       Actual  fraud  \\\n",
      "1    200000      2500         10000   906000      16  5620000.000      1   \n",
      "2   1400000    300000          1000  1996000      29  6882758.621      1   \n",
      "4    300000    400000         50000  1090000      12  9083333.333      1   \n",
      "5    200000    500000         25000  1319000      18  7327777.778      1   \n",
      "6    120000    600000         80000  1185000      22  5386363.636      1   \n",
      "8     89000    600000          2000  1847000      23  8030434.783      1   \n",
      "9    150000    500000         10000  1280000      15  8533333.333      1   \n",
      "\n",
      "   Annual   \n",
      "1  2500000  \n",
      "2  5000000  \n",
      "4  5000000  \n",
      "5  6500000  \n",
      "6  2000000  \n",
      "8  2000000  \n",
      "9  4000000  \n"
     ]
    }
   ],
   "source": [
    "print(data2)\n",
    "data2.to_excel(\"C://Users//DELL//Downloads//Hackathon 2019//v.xlsx\")"
   ]
  },
  {
   "cell_type": "code",
   "execution_count": 13,
   "metadata": {},
   "outputs": [
    {
     "ename": "ValueError",
     "evalue": "x and y must be the same size",
     "output_type": "error",
     "traceback": [
      "\u001b[1;31m---------------------------------------------------------------------------\u001b[0m",
      "\u001b[1;31mValueError\u001b[0m                                Traceback (most recent call last)",
      "\u001b[1;32m<ipython-input-13-5baeb7a43e61>\u001b[0m in \u001b[0;36m<module>\u001b[1;34m\u001b[0m\n\u001b[0;32m      2\u001b[0m \u001b[0mbx\u001b[0m\u001b[1;33m=\u001b[0m\u001b[0mdf\u001b[0m\u001b[1;33m[\u001b[0m\u001b[0mdf\u001b[0m\u001b[1;33m[\u001b[0m\u001b[1;34m'fraud'\u001b[0m\u001b[1;33m]\u001b[0m\u001b[1;33m==\u001b[0m\u001b[1;36m1\u001b[0m\u001b[1;33m]\u001b[0m\u001b[1;33m.\u001b[0m\u001b[0mplot\u001b[0m\u001b[1;33m.\u001b[0m\u001b[0mscatter\u001b[0m\u001b[1;33m(\u001b[0m\u001b[0mx\u001b[0m\u001b[1;33m=\u001b[0m\u001b[1;34m'Actual'\u001b[0m\u001b[1;33m,\u001b[0m \u001b[0my\u001b[0m\u001b[1;33m=\u001b[0m\u001b[1;34m'fraud'\u001b[0m\u001b[1;33m,\u001b[0m \u001b[0ms\u001b[0m\u001b[1;33m=\u001b[0m\u001b[1;36m50\u001b[0m\u001b[1;33m,\u001b[0m \u001b[0mcolor\u001b[0m\u001b[1;33m=\u001b[0m\u001b[1;34m'white'\u001b[0m\u001b[1;33m,\u001b[0m \u001b[0max\u001b[0m\u001b[1;33m=\u001b[0m\u001b[0max\u001b[0m\u001b[1;33m,\u001b[0m \u001b[0medgecolor\u001b[0m\u001b[1;33m=\u001b[0m\u001b[1;34m'red'\u001b[0m\u001b[1;33m)\u001b[0m\u001b[1;33m\u001b[0m\u001b[1;33m\u001b[0m\u001b[0m\n\u001b[0;32m      3\u001b[0m \u001b[1;31m#<matplotlib.axes._subplots.AxesSubplot at 0xfa42be0>\u001b[0m\u001b[1;33m\u001b[0m\u001b[1;33m\u001b[0m\u001b[1;33m\u001b[0m\u001b[0m\n\u001b[1;32m----> 4\u001b[1;33m \u001b[0mplt\u001b[0m\u001b[1;33m.\u001b[0m\u001b[0mscatter\u001b[0m\u001b[1;33m(\u001b[0m\u001b[0mkmeans\u001b[0m\u001b[1;33m.\u001b[0m\u001b[0mcluster_centers_\u001b[0m\u001b[1;33m.\u001b[0m\u001b[0mravel\u001b[0m\u001b[1;33m(\u001b[0m\u001b[1;33m)\u001b[0m\u001b[1;33m,\u001b[0m \u001b[1;33m[\u001b[0m\u001b[1;36m0.5\u001b[0m\u001b[1;33m]\u001b[0m\u001b[1;33m*\u001b[0m\u001b[0mlen\u001b[0m\u001b[1;33m(\u001b[0m\u001b[0mkmeans\u001b[0m\u001b[1;33m.\u001b[0m\u001b[0mcluster_centers_\u001b[0m\u001b[1;33m)\u001b[0m\u001b[1;33m,\u001b[0m \u001b[0ms\u001b[0m\u001b[1;33m=\u001b[0m\u001b[1;36m100\u001b[0m\u001b[1;33m,\u001b[0m \u001b[0mcolor\u001b[0m\u001b[1;33m=\u001b[0m\u001b[1;34m'green'\u001b[0m\u001b[1;33m,\u001b[0m \u001b[0mmarker\u001b[0m\u001b[1;33m=\u001b[0m\u001b[1;34m'*'\u001b[0m\u001b[1;33m)\u001b[0m\u001b[1;33m\u001b[0m\u001b[1;33m\u001b[0m\u001b[0m\n\u001b[0m\u001b[0;32m      5\u001b[0m \u001b[1;31m#<matplotlib.collections.PathCollection at 0xfabf208>\u001b[0m\u001b[1;33m\u001b[0m\u001b[1;33m\u001b[0m\u001b[1;33m\u001b[0m\u001b[0m\n\u001b[0;32m      6\u001b[0m \u001b[1;33m\u001b[0m\u001b[0m\n",
      "\u001b[1;32m~\\Anaconda3\\lib\\site-packages\\matplotlib\\pyplot.py\u001b[0m in \u001b[0;36mscatter\u001b[1;34m(x, y, s, c, marker, cmap, norm, vmin, vmax, alpha, linewidths, verts, edgecolors, data, **kwargs)\u001b[0m\n\u001b[0;32m   2862\u001b[0m         \u001b[0mvmin\u001b[0m\u001b[1;33m=\u001b[0m\u001b[0mvmin\u001b[0m\u001b[1;33m,\u001b[0m \u001b[0mvmax\u001b[0m\u001b[1;33m=\u001b[0m\u001b[0mvmax\u001b[0m\u001b[1;33m,\u001b[0m \u001b[0malpha\u001b[0m\u001b[1;33m=\u001b[0m\u001b[0malpha\u001b[0m\u001b[1;33m,\u001b[0m \u001b[0mlinewidths\u001b[0m\u001b[1;33m=\u001b[0m\u001b[0mlinewidths\u001b[0m\u001b[1;33m,\u001b[0m\u001b[1;33m\u001b[0m\u001b[1;33m\u001b[0m\u001b[0m\n\u001b[0;32m   2863\u001b[0m         verts=verts, edgecolors=edgecolors, **({\"data\": data} if data\n\u001b[1;32m-> 2864\u001b[1;33m         is not None else {}), **kwargs)\n\u001b[0m\u001b[0;32m   2865\u001b[0m     \u001b[0msci\u001b[0m\u001b[1;33m(\u001b[0m\u001b[0m__ret\u001b[0m\u001b[1;33m)\u001b[0m\u001b[1;33m\u001b[0m\u001b[1;33m\u001b[0m\u001b[0m\n\u001b[0;32m   2866\u001b[0m     \u001b[1;32mreturn\u001b[0m \u001b[0m__ret\u001b[0m\u001b[1;33m\u001b[0m\u001b[1;33m\u001b[0m\u001b[0m\n",
      "\u001b[1;32m~\\Anaconda3\\lib\\site-packages\\matplotlib\\__init__.py\u001b[0m in \u001b[0;36minner\u001b[1;34m(ax, data, *args, **kwargs)\u001b[0m\n\u001b[0;32m   1808\u001b[0m                         \u001b[1;34m\"the Matplotlib list!)\"\u001b[0m \u001b[1;33m%\u001b[0m \u001b[1;33m(\u001b[0m\u001b[0mlabel_namer\u001b[0m\u001b[1;33m,\u001b[0m \u001b[0mfunc\u001b[0m\u001b[1;33m.\u001b[0m\u001b[0m__name__\u001b[0m\u001b[1;33m)\u001b[0m\u001b[1;33m,\u001b[0m\u001b[1;33m\u001b[0m\u001b[1;33m\u001b[0m\u001b[0m\n\u001b[0;32m   1809\u001b[0m                         RuntimeWarning, stacklevel=2)\n\u001b[1;32m-> 1810\u001b[1;33m             \u001b[1;32mreturn\u001b[0m \u001b[0mfunc\u001b[0m\u001b[1;33m(\u001b[0m\u001b[0max\u001b[0m\u001b[1;33m,\u001b[0m \u001b[1;33m*\u001b[0m\u001b[0margs\u001b[0m\u001b[1;33m,\u001b[0m \u001b[1;33m**\u001b[0m\u001b[0mkwargs\u001b[0m\u001b[1;33m)\u001b[0m\u001b[1;33m\u001b[0m\u001b[1;33m\u001b[0m\u001b[0m\n\u001b[0m\u001b[0;32m   1811\u001b[0m \u001b[1;33m\u001b[0m\u001b[0m\n\u001b[0;32m   1812\u001b[0m         inner.__doc__ = _add_data_doc(inner.__doc__,\n",
      "\u001b[1;32m~\\Anaconda3\\lib\\site-packages\\matplotlib\\axes\\_axes.py\u001b[0m in \u001b[0;36mscatter\u001b[1;34m(self, x, y, s, c, marker, cmap, norm, vmin, vmax, alpha, linewidths, verts, edgecolors, **kwargs)\u001b[0m\n\u001b[0;32m   4180\u001b[0m         \u001b[0my\u001b[0m \u001b[1;33m=\u001b[0m \u001b[0mnp\u001b[0m\u001b[1;33m.\u001b[0m\u001b[0mma\u001b[0m\u001b[1;33m.\u001b[0m\u001b[0mravel\u001b[0m\u001b[1;33m(\u001b[0m\u001b[0my\u001b[0m\u001b[1;33m)\u001b[0m\u001b[1;33m\u001b[0m\u001b[1;33m\u001b[0m\u001b[0m\n\u001b[0;32m   4181\u001b[0m         \u001b[1;32mif\u001b[0m \u001b[0mx\u001b[0m\u001b[1;33m.\u001b[0m\u001b[0msize\u001b[0m \u001b[1;33m!=\u001b[0m \u001b[0my\u001b[0m\u001b[1;33m.\u001b[0m\u001b[0msize\u001b[0m\u001b[1;33m:\u001b[0m\u001b[1;33m\u001b[0m\u001b[1;33m\u001b[0m\u001b[0m\n\u001b[1;32m-> 4182\u001b[1;33m             \u001b[1;32mraise\u001b[0m \u001b[0mValueError\u001b[0m\u001b[1;33m(\u001b[0m\u001b[1;34m\"x and y must be the same size\"\u001b[0m\u001b[1;33m)\u001b[0m\u001b[1;33m\u001b[0m\u001b[1;33m\u001b[0m\u001b[0m\n\u001b[0m\u001b[0;32m   4183\u001b[0m \u001b[1;33m\u001b[0m\u001b[0m\n\u001b[0;32m   4184\u001b[0m         \u001b[1;32mif\u001b[0m \u001b[0ms\u001b[0m \u001b[1;32mis\u001b[0m \u001b[1;32mNone\u001b[0m\u001b[1;33m:\u001b[0m\u001b[1;33m\u001b[0m\u001b[1;33m\u001b[0m\u001b[0m\n",
      "\u001b[1;31mValueError\u001b[0m: x and y must be the same size"
     ]
    },
    {
     "data": {
      "image/png": "[encoded data removed]",
      "text/plain": [
       "<Figure size 432x288 with 1 Axes>"
      ]
     },
     "metadata": {
      "needs_background": "light"
     },
     "output_type": "display_data"
    }
   ],
   "source": [
    "ax = df[df['fraud']==0].plot.scatter(x='Actual', y='fraud', s=50, color='white', edgecolor='black')\n",
    "bx=df[df['fraud']==1].plot.scatter(x='Actual', y='fraud', s=50, color='white', ax=ax, edgecolor='red')\n",
    "#<matplotlib.axes._subplots.AxesSubplot at 0xfa42be0>\n",
    "plt.scatter(kmeans.cluster_centers_.ravel(), [0.5]*len(kmeans.cluster_centers_), s=100, color='green', marker='*')\n",
    "#<matplotlib.collections.PathCollection at 0xfabf208>\n",
    "\n",
    "\n"
   ]
  },
  {
   "cell_type": "code",
   "execution_count": 14,
   "metadata": {},
   "outputs": [],
   "source": [
    "#Udemy \n",
    "import numpy as np\n",
    "import matplotlib.pyplot as plt\n",
    "import pandas as pd"
   ]
  },
  {
   "cell_type": "code",
   "execution_count": 8,
   "metadata": {},
   "outputs": [],
   "source": [
    "df=pd.read_csv('C://Users//DELL//Downloads//Hackathon 2019//Dataset.csv')"
   ]
  },
  {
   "cell_type": "code",
   "execution_count": 9,
   "metadata": {},
   "outputs": [
    {
     "data": {
      "text/html": [
       "<div>\n",
       "<style scoped>\n",
       "    .dataframe tbody tr th:only-of-type {\n",
       "        vertical-align: middle;\n",
       "    }\n",
       "\n",
       "    .dataframe tbody tr th {\n",
       "        vertical-align: top;\n",
       "    }\n",
       "\n",
       "    .dataframe thead th {\n",
       "        text-align: right;\n",
       "    }\n",
       "</style>\n",
       "<table border=\"1\" class=\"dataframe\">\n",
       "  <thead>\n",
       "    <tr style=\"text-align: right;\">\n",
       "      <th></th>\n",
       "      <th>Name</th>\n",
       "      <th>Maintaince</th>\n",
       "      <th>Car maintaince</th>\n",
       "      <th>Employee Salary</th>\n",
       "      <th>Family Expen</th>\n",
       "      <th>Jwellery</th>\n",
       "      <th>Kidsfees</th>\n",
       "      <th>Online Shopp</th>\n",
       "      <th>Total</th>\n",
       "      <th>profit</th>\n",
       "      <th>Actual</th>\n",
       "      <th>fraud</th>\n",
       "      <th>Annual</th>\n",
       "    </tr>\n",
       "  </thead>\n",
       "  <tbody>\n",
       "    <tr>\n",
       "      <th>0</th>\n",
       "      <td>jyothika</td>\n",
       "      <td>40000</td>\n",
       "      <td>60000</td>\n",
       "      <td>200000</td>\n",
       "      <td>40000</td>\n",
       "      <td>100000</td>\n",
       "      <td>5000</td>\n",
       "      <td>50000</td>\n",
       "      <td>490000</td>\n",
       "      <td>20</td>\n",
       "      <td>2450000.000</td>\n",
       "      <td>0</td>\n",
       "      <td>2450000</td>\n",
       "    </tr>\n",
       "    <tr>\n",
       "      <th>1</th>\n",
       "      <td>Priyanka</td>\n",
       "      <td>36000</td>\n",
       "      <td>80000</td>\n",
       "      <td>500000</td>\n",
       "      <td>80000</td>\n",
       "      <td>200000</td>\n",
       "      <td>2500</td>\n",
       "      <td>10000</td>\n",
       "      <td>906000</td>\n",
       "      <td>16</td>\n",
       "      <td>5620000.000</td>\n",
       "      <td>1</td>\n",
       "      <td>2500000</td>\n",
       "    </tr>\n",
       "    <tr>\n",
       "      <th>2</th>\n",
       "      <td>Vikas</td>\n",
       "      <td>35000</td>\n",
       "      <td>70000</td>\n",
       "      <td>400000</td>\n",
       "      <td>90000</td>\n",
       "      <td>1400000</td>\n",
       "      <td>300000</td>\n",
       "      <td>1000</td>\n",
       "      <td>1996000</td>\n",
       "      <td>29</td>\n",
       "      <td>6882758.621</td>\n",
       "      <td>1</td>\n",
       "      <td>5000000</td>\n",
       "    </tr>\n",
       "    <tr>\n",
       "      <th>3</th>\n",
       "      <td>Akshay</td>\n",
       "      <td>35000</td>\n",
       "      <td>140000</td>\n",
       "      <td>500000</td>\n",
       "      <td>80000</td>\n",
       "      <td>250000</td>\n",
       "      <td>200000</td>\n",
       "      <td>25000</td>\n",
       "      <td>1030000</td>\n",
       "      <td>50</td>\n",
       "      <td>2060000.000</td>\n",
       "      <td>0</td>\n",
       "      <td>2060000</td>\n",
       "    </tr>\n",
       "    <tr>\n",
       "      <th>4</th>\n",
       "      <td>Sneha</td>\n",
       "      <td>80000</td>\n",
       "      <td>50000</td>\n",
       "      <td>560000</td>\n",
       "      <td>50000</td>\n",
       "      <td>300000</td>\n",
       "      <td>400000</td>\n",
       "      <td>50000</td>\n",
       "      <td>1090000</td>\n",
       "      <td>12</td>\n",
       "      <td>9083333.333</td>\n",
       "      <td>1</td>\n",
       "      <td>5000000</td>\n",
       "    </tr>\n",
       "  </tbody>\n",
       "</table>\n",
       "</div>"
      ],
      "text/plain": [
       "       Name  Maintaince  Car maintaince  Employee Salary  Family Expen  \\\n",
       "0  jyothika       40000           60000           200000         40000   \n",
       "1  Priyanka       36000           80000           500000         80000   \n",
       "2     Vikas       35000           70000           400000         90000   \n",
       "3    Akshay       35000          140000           500000         80000   \n",
       "4     Sneha       80000           50000           560000         50000   \n",
       "\n",
       "   Jwellery  Kidsfees  Online Shopp    Total  profit       Actual  fraud  \\\n",
       "0    100000      5000         50000   490000      20  2450000.000      0   \n",
       "1    200000      2500         10000   906000      16  5620000.000      1   \n",
       "2   1400000    300000          1000  1996000      29  6882758.621      1   \n",
       "3    250000    200000         25000  1030000      50  2060000.000      0   \n",
       "4    300000    400000         50000  1090000      12  9083333.333      1   \n",
       "\n",
       "   Annual   \n",
       "0  2450000  \n",
       "1  2500000  \n",
       "2  5000000  \n",
       "3  2060000  \n",
       "4  5000000  "
      ]
     },
     "execution_count": 9,
     "metadata": {},
     "output_type": "execute_result"
    }
   ],
   "source": [
    "df.head()"
   ]
  },
  {
   "cell_type": "code",
   "execution_count": 10,
   "metadata": {},
   "outputs": [],
   "source": [
    "x=df.iloc[:,[9,10]].values"
   ]
  },
  {
   "cell_type": "code",
   "execution_count": 11,
   "metadata": {},
   "outputs": [
    {
     "data": {
      "image/png": "[encoded data removed]",
      "text/plain": [
       "<Figure size 432x288 with 1 Axes>"
      ]
     },
     "metadata": {
      "needs_background": "light"
     },
     "output_type": "display_data"
    }
   ],
   "source": [
    "#using the elbow method to find optimal number of cluster\n",
    "from sklearn.cluster import KMeans\n",
    "wcss=[]\n",
    "for i in range(1,11):\n",
    "    kmeans=KMeans(n_clusters=i,init='k-means++',max_iter=300,n_init=10,random_state=0)\n",
    "    kmeans.fit(x)\n",
    "    wcss.append(kmeans.inertia_)\n",
    "plt.plot(range(1,11),wcss)\n",
    "plt.title('The Elbow method')\n",
    "plt.xlabel('Number of cluster')\n",
    "plt.ylabel('WCSS')\n",
    "plt.show()"
   ]
  },
  {
   "cell_type": "code",
   "execution_count": null,
   "metadata": {},
   "outputs": [],
   "source": []
  }
 ],
 "metadata": {
  "kernelspec": {
   "display_name": "Python 3",
   "language": "python",
   "name": "python3"
  },
  "language_info": {
   "codemirror_mode": {
    "name": "ipython",
    "version": 3
   },
   "file_extension": ".py",
   "mimetype": "text/x-python",
   "name": "python",
   "nbconvert_exporter": "python",
   "pygments_lexer": "ipython3",
   "version": "3.6.7"
  }
 },
 "nbformat": 4,
 "nbformat_minor": 2
}
